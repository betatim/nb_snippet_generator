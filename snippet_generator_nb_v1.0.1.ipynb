{
 "cells": [
  {
   "cell_type": "code",
   "execution_count": 1,
   "metadata": {
    "collapsed": true
   },
   "outputs": [],
   "source": [
    "from ipywidgets import widgets\n",
    "import requests\n",
    "import pandas as pd\n",
    "from bs4 import BeautifulSoup as bs\n",
    "import json\n",
    "import webbrowser\n",
    "import httplib2\n",
    "import re\n",
    "from apiclient import discovery\n",
    "from oauth2client import client\n",
    "from datetime import datetime, timedelta"
   ]
  },
  {
   "cell_type": "code",
   "execution_count": 2,
   "metadata": {
    "collapsed": true
   },
   "outputs": [],
   "source": [
    "## widgets layouts\n",
    "spread_item = widgets.Layout(flex='3 1 auto', width='auto')\n",
    "shrink_item = widgets.Layout(flex='1 3 auto', width='auto')\n",
    "col_with_50 = widgets.Layout(width='50%')\n",
    "col_with_70 = widgets.Layout(width='70%')\n",
    "col_with_30 = widgets.Layout(width='30%')"
   ]
  },
  {
   "cell_type": "code",
   "execution_count": 3,
   "metadata": {
    "collapsed": true
   },
   "outputs": [],
   "source": [
    "class Create_Client():\n",
    "    \"\"\"Creates a Google API Service Object\"\"\"\n",
    "\n",
    "    def __init__(self):\n",
    "        pass\n",
    "\n",
    "    # Auth-Code generieren\n",
    "    def get_auth_code(self, scope):\n",
    "        \"\"\"Runs through the OAuth flow and retrieves the code by the user\"\"\"\n",
    "        self.flow = client.flow_from_clientsecrets(\n",
    "            'client_secrets.json', \n",
    "            scope=scope, \n",
    "            redirect_uri='urn:ietf:wg:oauth:2.0:oob')\n",
    "        auth_uri = self.flow.step1_get_authorize_url()\n",
    "        webbrowser.open(auth_uri)\n",
    "        print(auth_uri)\n",
    "\n",
    "    # authorisieren\n",
    "    def authorize(self, code):\n",
    "        credentials = self.flow.step2_exchange(code)\n",
    "        http = httplib2.Http()\n",
    "        http = credentials.authorize(http)\n",
    "        self.service = discovery.build('webmasters','v3',http=http)\n",
    "    \n",
    "    # Liste aller verifizierten Properties des Google-Accounts\n",
    "    def get_verified_site_list(self):\n",
    "        \n",
    "        site_list = self.service.sites().list().execute()\n",
    "        \n",
    "        # Filter die Seiten mit falschem Permission-Level raus\n",
    "        # ? was macht die zweite Bedingung: nur gültige http-Adressen?\n",
    "        \n",
    "        return [s['siteUrl'] for s in site_list['siteEntry'] \n",
    "                    if s['permissionLevel'] != 'siteUnverifiedUser'\n",
    "                    and s['siteUrl'][:4] == 'http']\n",
    "    \n",
    "    # Normale GSC-Abfrage \n",
    "    # Aufruf der searchanalytics().query-Methode\n",
    "    def get_gsa_data(self, _property, request):\n",
    "        response = self.service.searchanalytics().query(siteUrl=_property, body=request).execute()\n",
    "        if 'rows' in response:\n",
    "            return self.resp2frame(response['rows'], request)\n",
    "        else:\n",
    "            # Wenn keine Daten vorhanden sind, dann printe einfach 'Keine Daten'\n",
    "            print_log('Keine Daten', False)\n",
    "\n",
    "    # eigene Methode: Responses to Frame\n",
    "    @staticmethod\n",
    "    def resp2frame(response, request):\n",
    "        # Spaltennamen: Klicks, Impressionen, CTR, Position\n",
    "        columns = ['clicks', 'impressions', 'ctr', 'position']\n",
    "        df = pd.DataFrame(response)\n",
    "        if 'keys' in df.columns:\n",
    "            keys = df['keys'].apply(pd.Series)\n",
    "            keys.columns = request['dimensions']\n",
    "            df = df.join(keys).drop('keys', axis=1)\n",
    "            columns = request['dimensions'] + columns\n",
    "        df = df[columns]\n",
    "        return df.sort_values('clicks', ascending=False)"
   ]
  },
  {
   "cell_type": "code",
   "execution_count": 4,
   "metadata": {
    "collapsed": true
   },
   "outputs": [],
   "source": [
    "gsa_client = Create_Client()\n",
    "properties = []\n",
    "today = datetime.today().date()\n",
    "start_date = str(today - timedelta(90))\n",
    "end_date = str(today - timedelta(2))\n",
    "query = {\n",
    "    \"dimensions\": \n",
    "    [\n",
    "        \"query\",\n",
    "        \"page\"\n",
    "    ],\n",
    "    \"dimensionFilterGroups\": \n",
    "    [\n",
    "        {\n",
    "          \"filters\": \n",
    "          [\n",
    "            {\n",
    "              \"dimension\": \"page\",\n",
    "              \"operator\": \"equals\",\n",
    "              \"expression\": \"\"\n",
    "            }\n",
    "          ]\n",
    "        }\n",
    "    ],\n",
    "    \"searchtype\":\"web\",\n",
    "    \"endDate\": end_date,\n",
    "    \"startDate\": start_date,\n",
    "    \"rowLimit\": 5000\n",
    "}"
   ]
  },
  {
   "cell_type": "code",
   "execution_count": 5,
   "metadata": {
    "collapsed": true
   },
   "outputs": [],
   "source": [
    "# query['dimensionFilterGroups'][0]['filters'][0].update({'expression':'test'})"
   ]
  },
  {
   "cell_type": "code",
   "execution_count": 6,
   "metadata": {
    "collapsed": true
   },
   "outputs": [],
   "source": [
    "# Suggest: Frage die Pseudo-API von Google Suggest ab\n",
    "# Nutzung von BeautifulSoup zum Auslesen des XML-Outputs\n",
    "# suggestions: DatamFrame mit allen Sugesstions\n",
    "\n",
    "def suggest(kw):\n",
    "    \n",
    "    sug_url = 'http://suggestqueries.google.com/complete/search?output=toolbar&hl=de&q='\n",
    "    url = sug_url + str(kw)\n",
    "    r = requests.get(url)\n",
    "    s = bs(r.content, \"lxml\")\n",
    "    suggestions = s.find_all('suggestion')\n",
    "    suggestions = [sug['data'] for sug in suggestions]\n",
    "    suggestions = pd.DataFrame(suggestions, columns=['Suggestions'])\n",
    "    return suggestions  "
   ]
  },
  {
   "cell_type": "code",
   "execution_count": 7,
   "metadata": {
    "collapsed": true
   },
   "outputs": [],
   "source": [
    "# Widget Outputs\n",
    "\n",
    "o_error = widgets.Output(wait=True)\n",
    "\n",
    "o_log = widgets.Output(wait=True)\n",
    "\n",
    "o_control = widgets.Output(wait=True)\n",
    "\n",
    "o_html = widgets.Output(wait=True)\n",
    "\n",
    "o_new = widgets.Output(wait=True)\n",
    "\n",
    "o_gsa = widgets.Output(wait=True)\n",
    "\n",
    "o_suggest = widgets.Output(wait=True)"
   ]
  },
  {
   "cell_type": "code",
   "execution_count": 8,
   "metadata": {
    "collapsed": true
   },
   "outputs": [],
   "source": [
    "## widgets\n",
    "\n",
    "prop_filter = widgets.Text(placeholder='Filter', continuous_update=False)\n",
    "\n",
    "properties_dd = widgets.Dropdown(options=properties, description='Property', layout=spread_item)\n",
    "\n",
    "url_input = widgets.Text(description='URL', layout=spread_item, continuous_update=False)\n",
    "\n",
    "gsc_url = widgets.Text(description='GSC URL', layout=spread_item, continuous_update=False)\n",
    "\n",
    "startb = widgets.Button(description='Fetch URL', button_style='info')\n",
    "\n",
    "startgsc = widgets.Button(description='GSC Abfragen', button_style='info')\n",
    "\n",
    "keyword = widgets.Text(description='Keyword', layout=spread_item)\n",
    "\n",
    "starts = widgets.Button(description='Suggest', button_style='info')\n",
    "\n",
    "clears = widgets.Button(description='Clear', button_style='info')\n",
    "\n",
    "ot_l = widgets.HTML(description='Länge', value='')\n",
    "\n",
    "old_title_html = widgets.HTML(description='Alter Title')\n",
    "\n",
    "od_l = widgets.HTML(description='Länge', value='')\n",
    "\n",
    "old_desc_html = widgets.HTML(description='Alte Descr.')\n",
    "\n",
    "new_title = widgets.Textarea(description='Neue Title', disabled=False, layout=spread_item, rows=2)\n",
    "\n",
    "nt_l = widgets.HTML(description='Länge', value='')\n",
    "\n",
    "new_title_html = widgets.HTML(description='Neuer Title')\n",
    "\n",
    "new_desc = widgets.Textarea(description='Neue Descr.', disabled=False, layout=spread_item, rows=5)\n",
    "\n",
    "nd_l = widgets.HTML(description='Länge (uncodiert)', value='')\n",
    "\n",
    "nd_l_c = widgets.HTML(description='Länge (codiert)', value='')\n",
    "\n",
    "nd_pixel_l = widgets.HTML(description='Pixellänge', value='')\n",
    "\n",
    "new_desc_html = widgets.HTML(description='Neue Descr.')\n",
    "\n",
    "## Sonderzeichen Buttons\n",
    "haken = widgets.Button(description='✓', tooltip='&#10003;', layout=shrink_item, button_style='danger')\n",
    "\n",
    "haken2 = widgets.Button(description='✔', tooltip='&#10004;', layout=shrink_item, button_style='danger')\n",
    "\n",
    "pfeil = widgets.Button(description='➔', tooltip='&#10132;', layout=shrink_item, button_style='danger')\n",
    "\n",
    "stern = widgets.Button(description='★', tooltip='&#9733;', layout=shrink_item, button_style='danger')\n",
    "\n",
    "herz = widgets.Button(description='♥', tooltip='&#9829;', layout=shrink_item, button_style='danger')\n",
    "\n",
    "telefon = widgets.Button(description='✆', tooltip='&#9990;', layout=shrink_item, button_style='danger')\n",
    "\n",
    "flieger = widgets.Button(description='✈', tooltip='&#9992;', layout=shrink_item, button_style='danger')\n",
    "\n",
    "zeichen = [\n",
    "    haken,\n",
    "    haken2,\n",
    "    pfeil,\n",
    "    stern,\n",
    "    herz,\n",
    "    telefon,\n",
    "    flieger\n",
    "]"
   ]
  },
  {
   "cell_type": "code",
   "execution_count": 9,
   "metadata": {
    "collapsed": true
   },
   "outputs": [],
   "source": [
    "## widgets functions\n",
    "def filter_properties(change):\n",
    "    options = [prop for prop in properties if change['new'] in prop]\n",
    "    properties_dd.options = options\n",
    "prop_filter.observe(filter_properties, names='value')\n",
    "\n",
    "def print_log(message, clear=True):\n",
    "    if clear:\n",
    "        o_log.clear_output()\n",
    "    with o_log:\n",
    "        print(message)\n",
    "\n",
    "def get_url_data(url):\n",
    "    print_log('start')\n",
    "    if url == '':\n",
    "        print_log('Leere URL')\n",
    "    else:\n",
    "        fetch_url(url)\n",
    "        print_log('finish', False)\n",
    "#         old_title.value = ''\n",
    "#         old_desc.value = ''\n",
    "        old_desc_html.value = ''\n",
    "        if metas['title'] != '':\n",
    "            old_title_html.value = metas['title'].decode()\n",
    "        if metas['description'] != '':\n",
    "            old_desc_html.value = metas['description'].decode()\n",
    "        ot_l.value = str(len(old_title_html.value))\n",
    "        od_l.value = str(len(old_desc_html.value))\n",
    "        nt_l.value = str(len(new_title.value))\n",
    "        nd_l.value = str(len(new_desc.value))\n",
    "# url_input.observe(get_url_data, names='value')\n",
    "\n",
    "def b_start(b):\n",
    "    get_url_data(url_input.value)\n",
    "    \n",
    "startb.on_click(b_start)\n",
    "\n",
    "\n",
    "def gsc_start(b):\n",
    "    get_gsa(gsc_url.value)\n",
    "    o_gsa.clear_output()\n",
    "    with o_gsa:\n",
    "        if gsa is not None:\n",
    "            \n",
    "            gsa['clicks'] = gsa['clicks'].astype(int)\n",
    "            gsa['impressions'] = gsa['impressions'].astype(int)\n",
    "            gsa['ctr'] = gsa['ctr'].mul(100).round(2)\n",
    "            gsa['position'] = gsa['position'].round(2)\n",
    "        \n",
    "            display(gsa[['query','clicks','impressions','ctr','position']].head(20))\n",
    "            \n",
    "        else: \n",
    "            print('Ungütlige URL oder keine Daten zur URL vorhanden')\n",
    "             \n",
    "\n",
    "# Klicke den Button und Starte die GSC-Abfrage\n",
    "startgsc.on_click(gsc_start)\n",
    "\n",
    "def fetch_url(url):\n",
    "    try:\n",
    "        print_log('fetching url', False)\n",
    "        r = requests.get(url, allow_redirects=False)\n",
    "        status = r.status_code\n",
    "        print_log('status: ' + str(status), False)\n",
    "        if status == 200:\n",
    "            get_meta(r)\n",
    "        elif status > 300 & status < 400:\n",
    "            r2 = requests.get(url, allow_redirects=True)\n",
    "            status2 = r2.status_code\n",
    "            print_log('fetching url - ' + str(status) + ' ' + r2.url + ' ' + str(status2), False)\n",
    "            get_meta(r2)\n",
    "        else:\n",
    "            get_meta()\n",
    "    except Exception as e:\n",
    "        print_log(e, False)\n",
    "\n",
    "            \n",
    "metas = {'title':'','description':''}\n",
    "def get_meta(request = None):\n",
    "    global metas\n",
    "    print_log('parsing metas', False)\n",
    "    title = ''\n",
    "    desc = ''\n",
    "    if request is not None:\n",
    "        s = bs(request.content, \"lxml\")\n",
    "        title = s.title.string.encode('utf-8')\n",
    "        desc = s.find('meta', attrs={'name':'description'})['content'].encode('utf-8')\n",
    "    metas.update({'title':title, 'description':desc})\n",
    "\n",
    "gsa = pd.DataFrame()\n",
    "\n",
    "# GSC-Daten Abfrage starten\n",
    "def get_gsa(url = None):\n",
    "    global gsa\n",
    "    print_log('query gsa', True)\n",
    "    gsa = pd.DataFrame()\n",
    "    if url is None or url == '':\n",
    "        print_log('Keine URL', False)\n",
    "    else:\n",
    "        try:\n",
    "            # müssen Query trimmen, fals jemand ein vor oder nachgestelltes Leerzeichen einfügt\n",
    "            # regex: (https:\\/\\/|http:\\/\\/).*\\S\n",
    "            m = re.search('(https:\\/\\/|http:\\/\\/).*\\S', gsc_url.value)\n",
    "            query['dimensionFilterGroups'][0]['filters'][0].update({'expression':m.group(0)})\n",
    "            gsa = gsa_client.get_gsa_data(properties_dd.value, query)\n",
    "            print_log('finish', True)\n",
    "        except Exception as e:\n",
    "            print_log(e, False)\n",
    "\n",
    "def b_suggest(b):\n",
    "    if keyword.value != '':\n",
    "        suggests = suggest(keyword.value)\n",
    "        suggests_str = widgets.HTML(value=str(' | ').join(suggests.Suggestions.tolist()))\n",
    "        with o_suggest:\n",
    "            display(suggests_str)\n",
    "            \n",
    "starts.on_click(b_suggest)\n",
    "\n",
    "def b_clear_suggest(b):\n",
    "    o_suggest.clear_output()\n",
    "    \n",
    "clears.on_click(b_clear_suggest)\n",
    "\n",
    "\n",
    "# dynamische change-function\n",
    "def new_title_length(change):\n",
    "    nt_l.value=str(len(change['new']))\n",
    "    new_title_html.value = str(change['new'])\n",
    "    \n",
    "new_title.observe(new_title_length, names='value')\n",
    "\n",
    "# dynamische change-function\n",
    "def new_desc_length(change):\n",
    "    nd_l.value=str(len(change['new']))\n",
    "    new_desc_html.value = str(change['new'])\n",
    "    \n",
    "new_desc.observe(new_desc_length, names='value')\n",
    "\n",
    "def insert_sign(b):\n",
    "    new_desc.value = new_desc.value + ' ' + b.tooltip + ' '\n",
    "\n",
    "# Einfügen von Sonderzeichen-Symbolen\n",
    "haken.on_click(insert_sign)\n",
    "\n",
    "haken2.on_click(insert_sign)\n",
    "\n",
    "pfeil.on_click(insert_sign)\n",
    "\n",
    "stern.on_click(insert_sign)\n",
    "\n",
    "herz.on_click(insert_sign)\n",
    "\n",
    "telefon.on_click(insert_sign)\n",
    "\n",
    "flieger.on_click(insert_sign)"
   ]
  },
  {
   "cell_type": "code",
   "execution_count": 29,
   "metadata": {},
   "outputs": [
    {
     "data": {
      "application/vnd.jupyter.widget-view+json": {
       "model_id": "59022b54835b4a9f93dad6bb3e5524c6",
       "version_major": 2,
       "version_minor": 0
      },
      "text/plain": [
       "A Jupyter Widget"
      ]
     },
     "metadata": {},
     "output_type": "display_data"
    }
   ],
   "source": [
    "# Fügt das Snippet-Logo ein\n",
    "\n",
    "file = open(\"snippet-generator.png\", \"rb\")\n",
    "image = file.read()\n",
    "widgets.Image(\n",
    "    value=image,\n",
    "    format='png',\n",
    "    width='400'\n",
    ")"
   ]
  },
  {
   "cell_type": "code",
   "execution_count": 41,
   "metadata": {
    "scrolled": false
   },
   "outputs": [
    {
     "data": {
      "application/vnd.jupyter.widget-view+json": {
       "model_id": "80640f623497490081abeef11976c1e1",
       "version_major": 2,
       "version_minor": 0
      },
      "text/plain": [
       "A Jupyter Widget"
      ]
     },
     "metadata": {},
     "output_type": "display_data"
    }
   ],
   "source": [
    "# gelber Button wird erstellt\n",
    "start_a = widgets.Button(description='Mit Google Konto anmelden', layout=spread_item, button_style='warning')\n",
    "\n",
    "# Inputfeld für Authentifizierung\n",
    "auth_input = widgets.Text(placeholder='Auth-Code hier einfügen', layout=spread_item)\n",
    "\n",
    "# Button zum Autorisieren \n",
    "finish_a = widgets.Button(description='Autorisieren', layout=spread_item, button_style='success', tooltip='Jetzt authorisieren!', icon='check')\n",
    "\n",
    "# Beim Klicken des gelben Buttons startet der Authentisierungsvorgang\n",
    "def b_start_a(b):\n",
    "    gsa_client.get_auth_code(['https://www.googleapis.com/auth/webmasters.readonly'])\n",
    "    \n",
    "# Funktionsaufruf für den Startbutton button_start_a!\n",
    "start_a.on_click(b_start_a)\n",
    "\n",
    "\n",
    "# Funktionshandling für den Finish-Button button_finish_a!\n",
    "def b_finish_a(b):\n",
    "    global properties\n",
    "    try:\n",
    "        gsa_client.authorize(auth_input.value)\n",
    "        properties = gsa_client.get_verified_site_list()\n",
    "        properties_dd.options = properties\n",
    "    except Exception as e:\n",
    "        o_log.clear_output()\n",
    "        print_log(e, True)\n",
    "        \n",
    "finish_a.on_click(b_finish_a)\n",
    "    \n",
    "# Generiert eine H(orizontale)Box, bestehend aus start_a, auth_input, finish_a (siehe oben in Zelle)    \n",
    "widgets.HBox([start_a, auth_input, finish_a], layout=widgets.Layout(justify_content='space-around'))"
   ]
  },
  {
   "cell_type": "code",
   "execution_count": 12,
   "metadata": {
    "collapsed": true
   },
   "outputs": [],
   "source": [
    "## control building\n",
    "rows = []\n",
    "rows.append(widgets.HBox([properties_dd, prop_filter]))\n",
    "rows.append(widgets.HBox([gsc_url, startgsc]))\n",
    "rows.append(widgets.HBox([url_input, startb]))\n",
    "rows.append(widgets.HBox([keyword, starts, clears]))\n",
    "left = rows\n",
    "right = o_log\n",
    "o_control.clear_output()\n",
    "with o_control:\n",
    "    display(widgets.VBox(rows))"
   ]
  },
  {
   "cell_type": "code",
   "execution_count": 13,
   "metadata": {
    "collapsed": true
   },
   "outputs": [],
   "source": [
    "## o_html building\n",
    "cols = []\n",
    "left = [old_title_html,ot_l,old_desc_html,od_l]\n",
    "right = [new_title_html,nt_l,new_desc_html,nd_l]\n",
    "cols.append(widgets.VBox(left, layout=col_with_50))\n",
    "cols.append(widgets.VBox(right, layout=col_with_50))\n",
    "o_html.clear_output()\n",
    "with o_html:\n",
    "    display(widgets.HBox(cols))"
   ]
  },
  {
   "cell_type": "code",
   "execution_count": 14,
   "metadata": {
    "collapsed": true
   },
   "outputs": [],
   "source": [
    "## o_new building\n",
    "cols = []\n",
    "left = [new_title,new_desc]\n",
    "right_1 = zeichen[:int(len(zeichen)/2)]\n",
    "right_2 = zeichen[int(len(zeichen)/2):]\n",
    "right = [widgets.VBox(right_1),widgets.VBox(right_2)]\n",
    "cols.append(widgets.VBox(left, layout=widgets.Layout(width='80%')))\n",
    "cols.append(widgets.HBox(right, layout=widgets.Layout(width='20%')))\n",
    "o_new.clear_output()\n",
    "with o_new:\n",
    "    display(widgets.HBox(cols))"
   ]
  },
  {
   "cell_type": "code",
   "execution_count": 15,
   "metadata": {},
   "outputs": [
    {
     "data": {
      "application/vnd.jupyter.widget-view+json": {
       "model_id": "cd8f867e2c08460e961c6751b8dbd876",
       "version_major": 2,
       "version_minor": 0
      },
      "text/plain": [
       "A Jupyter Widget"
      ]
     },
     "metadata": {},
     "output_type": "display_data"
    }
   ],
   "source": [
    "## error output\n",
    "o_error"
   ]
  },
  {
   "cell_type": "code",
   "execution_count": 16,
   "metadata": {
    "scrolled": false
   },
   "outputs": [
    {
     "data": {
      "application/vnd.jupyter.widget-view+json": {
       "model_id": "7adfe94f08ca4966ab6c65e4da8b83a2",
       "version_major": 2,
       "version_minor": 0
      },
      "text/plain": [
       "A Jupyter Widget"
      ]
     },
     "metadata": {},
     "output_type": "display_data"
    }
   ],
   "source": [
    "## control output\n",
    "o_control"
   ]
  },
  {
   "cell_type": "code",
   "execution_count": 17,
   "metadata": {
    "scrolled": true
   },
   "outputs": [
    {
     "data": {
      "application/vnd.jupyter.widget-view+json": {
       "model_id": "755279596f4b42c68fd39917c5e9974b",
       "version_major": 2,
       "version_minor": 0
      },
      "text/plain": [
       "A Jupyter Widget"
      ]
     },
     "metadata": {},
     "output_type": "display_data"
    }
   ],
   "source": [
    "o_suggest"
   ]
  },
  {
   "cell_type": "code",
   "execution_count": 18,
   "metadata": {
    "scrolled": false
   },
   "outputs": [
    {
     "data": {
      "application/vnd.jupyter.widget-view+json": {
       "model_id": "4852c2ca593e468aaf705ba5b3f1ddd9",
       "version_major": 2,
       "version_minor": 0
      },
      "text/plain": [
       "A Jupyter Widget"
      ]
     },
     "metadata": {},
     "output_type": "display_data"
    }
   ],
   "source": [
    "o_html"
   ]
  },
  {
   "cell_type": "code",
   "execution_count": 19,
   "metadata": {
    "scrolled": true
   },
   "outputs": [
    {
     "data": {
      "application/vnd.jupyter.widget-view+json": {
       "model_id": "d9fa298be45749f7906d501464fa3a7f",
       "version_major": 2,
       "version_minor": 0
      },
      "text/plain": [
       "A Jupyter Widget"
      ]
     },
     "metadata": {},
     "output_type": "display_data"
    }
   ],
   "source": [
    "o_new"
   ]
  },
  {
   "cell_type": "code",
   "execution_count": 20,
   "metadata": {
    "scrolled": false
   },
   "outputs": [
    {
     "data": {
      "application/vnd.jupyter.widget-view+json": {
       "model_id": "cb3f254f45214bdd8cec114a084f9744",
       "version_major": 2,
       "version_minor": 0
      },
      "text/plain": [
       "A Jupyter Widget"
      ]
     },
     "metadata": {},
     "output_type": "display_data"
    }
   ],
   "source": [
    "o_gsa"
   ]
  },
  {
   "cell_type": "code",
   "execution_count": 21,
   "metadata": {},
   "outputs": [
    {
     "data": {
      "application/vnd.jupyter.widget-view+json": {
       "model_id": "f8e63a370e1c426cb610f6c86e866a26",
       "version_major": 2,
       "version_minor": 0
      },
      "text/plain": [
       "A Jupyter Widget"
      ]
     },
     "metadata": {},
     "output_type": "display_data"
    }
   ],
   "source": [
    "## log output\n",
    "o_log"
   ]
  }
 ],
 "metadata": {
  "hide_input": true,
  "kernelspec": {
   "display_name": "Python 3",
   "language": "python",
   "name": "python3"
  },
  "language_info": {
   "codemirror_mode": {
    "name": "ipython",
    "version": 3
   },
   "file_extension": ".py",
   "mimetype": "text/x-python",
   "name": "python",
   "nbconvert_exporter": "python",
   "pygments_lexer": "ipython3",
   "version": "3.6.3"
  }
 },
 "nbformat": 4,
 "nbformat_minor": 2
}
